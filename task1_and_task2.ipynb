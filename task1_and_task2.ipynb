{
 "cells": [
  {
   "cell_type": "markdown",
   "metadata": {},
   "source": [
    "鉴于task1的内容过于简单，我这里就不整理了，下面看一下task1最后的kaggle房价预测"
   ]
  },
  {
   "cell_type": "code",
   "execution_count": 4,
   "metadata": {},
   "outputs": [],
   "source": [
    "%matplotlib inline\n",
    "import torch\n",
    "import torch.nn as nn\n",
    "import numpy as np\n",
    "import pandas as pd\n",
    "import sys\n",
    "sys.path.append(\"/input\")"
   ]
  },
  {
   "cell_type": "code",
   "execution_count": 5,
   "metadata": {},
   "outputs": [
    {
     "name": "stdout",
     "output_type": "stream",
     "text": [
      "1.0.0\n"
     ]
    }
   ],
   "source": [
    "print(torch.__version__)"
   ]
  },
  {
   "cell_type": "markdown",
   "metadata": {},
   "source": [
    "与Kesci上的笔记对比，发现这里我的torch版本太低了，于是想升级到最新版。然后我在终端输入:\n",
    "\n",
    "```bash\n",
    "pip3 install --upgrade torch torchvision\n",
    "```"
   ]
  },
  {
   "cell_type": "markdown",
   "metadata": {},
   "source": [
    "很快下载并安装好了，然后我在Jupyter中更新了一下kernel发现得到的依然是1.0.0，我很不解，重启了一下电脑，然后发现还是没变。\n",
    "\n",
    "然后我想是不是因为pip3 install的位置不对，我搜索了一下我的电脑中torch这个包的位置，发现竟然有两个位置有这个包，一个是在 `/Library/Frameworks/Python.framework/Versions/3.6/lib/python3.6/site-packages`，这里存的是1.0.0，另一个是在`/usr/local/lib/python3.6/site-packages`，这里存的是1.4.0。\n",
    "\n",
    "我在脑海中快速的回忆我很早之前下载torch应该也是用pip3 install的，但是为什么当时是下载在前者，而现在所有的包都安装在了后者呢？下载那里没用啊，python搜索包不在那里搜索。\n",
    "\n",
    "然后我想更改pip3 install的位置，未果，用了好几种方法都没改成功，最后用了一个笨方法，直接pip3 install的时候指定下载位置，于是我cd进了 `/Library/Frameworks/Python.framework/Versions/3.6/lib/python3.6/site-packages`，然后它又给我报错了:\n",
    "```bash\n",
    "error: must supply either home or prefix/exec-prefix -- not both\n",
    "```\n",
    "解决方案是，现在当前文件夹下创建`setup.cfg`，然后在其中加入：\n",
    "```bash\n",
    "[install]\n",
    "prefix=\n",
    "```\n",
    "最后再`pip3 install --upgrade torch torchvision -t .`就终于成功了。"
   ]
  },
  {
   "cell_type": "code",
   "execution_count": 1,
   "metadata": {},
   "outputs": [],
   "source": [
    "import torch\n",
    "import torch.nn as nn\n",
    "import numpy as np\n",
    "import pandas as pd\n",
    "import sys\n",
    "sys.path.append(\"/input\")"
   ]
  },
  {
   "cell_type": "code",
   "execution_count": 2,
   "metadata": {},
   "outputs": [
    {
     "name": "stdout",
     "output_type": "stream",
     "text": [
      "1.4.0\n"
     ]
    }
   ],
   "source": [
    "print(torch.__version__)"
   ]
  },
  {
   "cell_type": "markdown",
   "metadata": {},
   "source": [
    "作为一个非cs本科的cs研究生，我一直想补的是关于操作系统的知识，但由于时间关系一直没有开始，近期刚把cs61A刷掉，正在刷cs61B，打算和cs61C同步刷，两门课都是大工程，同时还得看自己图像分割领域的论文，还要学英语考托福，事情真的有点多，我的目标是一个半月把cs61B和cs61C刷完，好像说的有点多，不过好久没写博客了，难免多说几句。\n",
    "\n",
    "其实我本来没打算做这个笔记的，目前来说感觉里面讲的基础知识比较浅显，主要是动手实践，如果没有相关基础的同学光看前面一点的基础知识很大可能是在云里雾里的，不过它的亮点就在于动手用Pytorch实践，这也是吸引我的原因，权当复习一下Pytorch好了，虽然我现在对深度学习不感兴趣了，但是后面可能还会用到。\n",
    "\n",
    "大概在17，18年左右那个时候对什么机器学习啊，深度学习啊特别感兴趣，最开始我入门神经网络的是我在生物力学实验室的导师给我的一本书，它是翻译自 http://neuralnetworksanddeeplearning.com/ ，名字就叫 Neural Networks and Deep Learing，作者出身自物理系，对于模型的理解比较深入，当时觉得这本书很好，非常适合拿来入门，它会用比较直观的方法来向你解释神经网络可以work的原因。看完这本书后，我又相继看了西瓜书，统计学习方法，以及大热的cs231n。西瓜书和统计学习方法使我在机器学习上入了门，了解了很多相关名词，监督学习算法，非监督学习算法等等，但它们也只是一个大体的入门，要想深挖还是要看它们引的相关论文，才能更深入的了解这些算法，以及数学原理。我是一个对数学原理非常有执念的人，对于一个点，它一定得具有非常合理的数学可解释性，我也一定要把它的数学原理掌握，不然我就很难受，这也是后来为什么我对深度学习日渐丧失兴趣的原因。cs231n真正领我进入了深度学习的世界，今天我刚把我之前做的cs231n的笔记和作业上传到github上，当时做笔记和作业还是非常认真的，把lectures和readings都深入的看了，作业难度也确实不小，花了我挺多时间，不过做完还是非常有收获，虽然现在可能大部分都忘了，不过稍微复习一下应该就能回忆起来。\n",
    "\n",
    "当时保研找的也是计算机视觉相关的实验室，那个时候一心只想脱离力学坑，投入CV的怀抱。后来我还看了模式学习和机器学习的圣经——Pattern Recognition and Machine Learing. 这真是本神书，难度也颇高，很多是从统计学上来解释机器学习，很有启发性，前一阵子听说某个校友把它的课后习题全部做完并上传到github，真是惭愧，当时我也有做它习题的打算，但是没坚持下去。暑期课程有个湾湾来的大概有50多岁的老师讲机器学习，用的就是这本书，他是完全按照这本书的内容讲，他在新竹开设这门课据说好多年，对于这本书的理解很深。我当时在看这本书的时候就有一些疑问，正好能去问他，他告诉我这个东西你不用这么深入的去想它，但我非得要给它找个完美的解释，最后未果，还是留有疑问，他也没有解释清楚。后来我又去看了CMU 邢波教授开的概率图模型，上个学期看的，大概看了有1/3后来因为期末搁置了，现在还在等待启动中。概率图可以用来解释机器学习模型，我一直认为它的应用前景很好，也值得深挖，确实应该重启概率图的学习了，说不定还会用到我的分割上。\n",
    "\n",
    "我现在做的方向是用传统方法来解决分割，其实定方向的时候也纠结了很久，到底是用深度学习来做还是用传统方法，想了很久还是决定放弃深度学习，在分割问题上深度学习其实已经进入了一个瓶颈中，点的提升已经非常有限了，与其想方设法怎么改网络改参数，还不怎么具有可解释性，不如静下心来用传统方法来探究图像分割的本质。这对数学要求就比较高了，虽然大家都觉得我数学不错，但是我一直觉得我的数学理解不是很深刻，像数学分析高等代数复变函数这些课我都想拿出来再看一遍，但实在是没有时间，只能用的时候带着再看一下。其实也不是没时间，很多时候时间利用效率并不高，希望自己之后的效率能更高一点，能更专注。\n",
    "\n",
    "像现在这样，静下心来思考，回忆，记录就很好，能感受到内心非常平静，也不焦躁要看论文，甚至没考虑再过一个多小时打卡就截止了，下面我们还是言归正传吧！"
   ]
  },
  {
   "cell_type": "markdown",
   "metadata": {},
   "source": [
    "## 加载数据集"
   ]
  },
  {
   "cell_type": "markdown",
   "metadata": {},
   "source": [
    "数据集包括每栋房子的特征，如街道类型，建造年份等，这些特征有连续的数字，离散的标签，甚至是缺失值\"NAN\"。我们要预测的是房子的价格。为了得到它的数据集，我第一次注册了kaggle，感觉以后有时间也可以在上面打一下比赛。\n",
    "\n",
    "先通过`pandas`库读入并处理数据："
   ]
  },
  {
   "cell_type": "code",
   "execution_count": 3,
   "metadata": {},
   "outputs": [],
   "source": [
    "train_data = pd.read_csv('./train.csv')\n",
    "test_data = pd.read_csv('./test.csv')"
   ]
  },
  {
   "cell_type": "code",
   "execution_count": 4,
   "metadata": {},
   "outputs": [
    {
     "data": {
      "text/plain": [
       "(1460, 81)"
      ]
     },
     "execution_count": 4,
     "metadata": {},
     "output_type": "execute_result"
    }
   ],
   "source": [
    "train_data.shape"
   ]
  },
  {
   "cell_type": "code",
   "execution_count": 5,
   "metadata": {},
   "outputs": [
    {
     "data": {
      "text/plain": [
       "(1459, 80)"
      ]
     },
     "execution_count": 5,
     "metadata": {},
     "output_type": "execute_result"
    }
   ],
   "source": [
    "test_data.shape"
   ]
  },
  {
   "cell_type": "markdown",
   "metadata": {},
   "source": [
    "看一下训练集的前四个特征，后两个特征和label"
   ]
  },
  {
   "cell_type": "code",
   "execution_count": 6,
   "metadata": {},
   "outputs": [
    {
     "data": {
      "text/html": [
       "<div>\n",
       "<style scoped>\n",
       "    .dataframe tbody tr th:only-of-type {\n",
       "        vertical-align: middle;\n",
       "    }\n",
       "\n",
       "    .dataframe tbody tr th {\n",
       "        vertical-align: top;\n",
       "    }\n",
       "\n",
       "    .dataframe thead th {\n",
       "        text-align: right;\n",
       "    }\n",
       "</style>\n",
       "<table border=\"1\" class=\"dataframe\">\n",
       "  <thead>\n",
       "    <tr style=\"text-align: right;\">\n",
       "      <th></th>\n",
       "      <th>Id</th>\n",
       "      <th>MSSubClass</th>\n",
       "      <th>MSZoning</th>\n",
       "      <th>LotFrontage</th>\n",
       "      <th>SaleType</th>\n",
       "      <th>SaleCondition</th>\n",
       "      <th>SalePrice</th>\n",
       "    </tr>\n",
       "  </thead>\n",
       "  <tbody>\n",
       "    <tr>\n",
       "      <th>0</th>\n",
       "      <td>1</td>\n",
       "      <td>60</td>\n",
       "      <td>RL</td>\n",
       "      <td>65.0</td>\n",
       "      <td>WD</td>\n",
       "      <td>Normal</td>\n",
       "      <td>208500</td>\n",
       "    </tr>\n",
       "    <tr>\n",
       "      <th>1</th>\n",
       "      <td>2</td>\n",
       "      <td>20</td>\n",
       "      <td>RL</td>\n",
       "      <td>80.0</td>\n",
       "      <td>WD</td>\n",
       "      <td>Normal</td>\n",
       "      <td>181500</td>\n",
       "    </tr>\n",
       "    <tr>\n",
       "      <th>2</th>\n",
       "      <td>3</td>\n",
       "      <td>60</td>\n",
       "      <td>RL</td>\n",
       "      <td>68.0</td>\n",
       "      <td>WD</td>\n",
       "      <td>Normal</td>\n",
       "      <td>223500</td>\n",
       "    </tr>\n",
       "    <tr>\n",
       "      <th>3</th>\n",
       "      <td>4</td>\n",
       "      <td>70</td>\n",
       "      <td>RL</td>\n",
       "      <td>60.0</td>\n",
       "      <td>WD</td>\n",
       "      <td>Abnorml</td>\n",
       "      <td>140000</td>\n",
       "    </tr>\n",
       "  </tbody>\n",
       "</table>\n",
       "</div>"
      ],
      "text/plain": [
       "   Id  MSSubClass MSZoning  LotFrontage SaleType SaleCondition  SalePrice\n",
       "0   1          60       RL         65.0       WD        Normal     208500\n",
       "1   2          20       RL         80.0       WD        Normal     181500\n",
       "2   3          60       RL         68.0       WD        Normal     223500\n",
       "3   4          70       RL         60.0       WD       Abnorml     140000"
      ]
     },
     "execution_count": 6,
     "metadata": {},
     "output_type": "execute_result"
    }
   ],
   "source": [
    "train_data.iloc[0:4, [0, 1, 2, 3, -3, -2, -1]]"
   ]
  },
  {
   "cell_type": "markdown",
   "metadata": {},
   "source": [
    "其中id是无关的特征，所以我们将其去掉得到如下所有的数据："
   ]
  },
  {
   "cell_type": "code",
   "execution_count": 7,
   "metadata": {},
   "outputs": [],
   "source": [
    "all_features = pd.concat([train_data.iloc[:, 1:-1], test_data.iloc[:, 1:]])"
   ]
  },
  {
   "cell_type": "markdown",
   "metadata": {},
   "source": [
    "## 数据预处理"
   ]
  },
  {
   "cell_type": "markdown",
   "metadata": {},
   "source": [
    "对于不同的数据类型要做不同的处理。对连续数值做标准化，将离散数值转化为指示特征"
   ]
  },
  {
   "cell_type": "code",
   "execution_count": 8,
   "metadata": {},
   "outputs": [],
   "source": [
    "consistent_features= all_features.dtypes[all_features.dtypes != 'object'].index"
   ]
  },
  {
   "cell_type": "code",
   "execution_count": 9,
   "metadata": {},
   "outputs": [],
   "source": [
    "all_features[consistent_features] = all_features[consistent_features].apply(\n",
    "    lambda x : (x - x.mean()) / x.std())"
   ]
  },
  {
   "cell_type": "markdown",
   "metadata": {},
   "source": [
    "因为标准化后数据特征的均值变为0，所以可以用0来代替缺失值"
   ]
  },
  {
   "cell_type": "code",
   "execution_count": 10,
   "metadata": {},
   "outputs": [],
   "source": [
    "all_features[consistent_features] = all_features[consistent_features].fillna(0)"
   ]
  },
  {
   "cell_type": "code",
   "execution_count": 11,
   "metadata": {},
   "outputs": [
    {
     "data": {
      "text/plain": [
       "(2919, 331)"
      ]
     },
     "execution_count": 11,
     "metadata": {},
     "output_type": "execute_result"
    }
   ],
   "source": [
    "#dummy_na=True可以将缺失值当作合法的特征值并为其创建指示特征\n",
    "all_features = pd.get_dummies(all_features, dummy_na=True)\n",
    "all_features.shape"
   ]
  },
  {
   "cell_type": "markdown",
   "metadata": {},
   "source": [
    "可以看到特征数从79增加到331，是因为离散数值转化成了指示特征"
   ]
  },
  {
   "cell_type": "markdown",
   "metadata": {},
   "source": [
    "最后通过`values`属性得到Numpy格式的数据，并转成Tensor"
   ]
  },
  {
   "cell_type": "code",
   "execution_count": 12,
   "metadata": {},
   "outputs": [],
   "source": [
    "n_train = train_data.shape[0]\n",
    "train_features = torch.tensor(all_features[:n_train].values, dtype=torch.float)\n",
    "test_features = torch.tensor(all_features[n_train:].values, dtype=torch.float)\n",
    "train_labels = torch.tensor(train_data.SalePrice.values, dtype=torch.float).view(-1, 1)"
   ]
  },
  {
   "cell_type": "markdown",
   "metadata": {},
   "source": [
    "## 训练模型"
   ]
  },
  {
   "cell_type": "markdown",
   "metadata": {},
   "source": [
    "比赛用来评价模型的是对数均方根误差，给定预测值$\\hat{y_1},....,\\hat{y_n}$ 和真实标签 $y_1,...,y_n$,误差函数为：\n",
    "$$\n",
    "\\sqrt{\\frac{1}{n} \\sum_{i=1}^n (log(y_i)-log(\\hat{y_i}))^2}\n",
    "$$"
   ]
  },
  {
   "cell_type": "code",
   "execution_count": 13,
   "metadata": {},
   "outputs": [],
   "source": [
    "loss = torch.nn.MSELoss() #mean squared error\n",
    "def log_rmse(net, features, labels):\n",
    "    with torch.no_grad():\n",
    "        # 将小于1的值设成1，使得取对数的时候更稳定\n",
    "        clipped_preds = torch.max(net(features), torch.tensor(1.0))\n",
    "        rmse = torch.sqrt(2*loss(clipped_preds.log(), labels.log()).mean())\n",
    "    return rmse.item()"
   ]
  },
  {
   "cell_type": "code",
   "execution_count": 14,
   "metadata": {},
   "outputs": [],
   "source": [
    "def train(net, train_features, train_labels, test_features, test_labels, \n",
    "         num_epoches, learning_rate, weight_decay, batch_size):\n",
    "    train_ls, test_ls = [], []\n",
    "    dataset = torch.utils.data.TensorDataset(train_features, train_labels)\n",
    "    train_iter = torch.utils.data.DataLoader(dataset, batch_size, shuffle=True)\n",
    "    optimizer = torch.optim.Adam(params=net.parameters(), lr=learning_rate, weight_decay=weight_decay)\n",
    "    net = net.float()\n",
    "    for epoch in range(num_epoches):\n",
    "        for X, y in train_iter:\n",
    "            l = loss(net(X.float()), y.float())\n",
    "            optimizer.zero_grad()\n",
    "            l.backward()\n",
    "            optimizer.step()\n",
    "        cur_loss = log_rmse(net, train_features, train_labels)\n",
    "#         print(cur_loss)\n",
    "        train_ls.append(cur_loss)\n",
    "        if test_labels is not None:\n",
    "            test_ls.append(log_rmse(net, test_features, test_labels))\n",
    "    return train_ls, test_ls"
   ]
  },
  {
   "cell_type": "code",
   "execution_count": 15,
   "metadata": {},
   "outputs": [],
   "source": [
    "def get_net(feature_num):\n",
    "    net = nn.Linear(feature_num, 1)\n",
    "    for param in net.parameters():\n",
    "        nn.init.normal_(param, mean=0, std=0.01)\n",
    "    return net"
   ]
  },
  {
   "cell_type": "markdown",
   "metadata": {},
   "source": [
    "## K折交叉验证"
   ]
  },
  {
   "cell_type": "markdown",
   "metadata": {},
   "source": [
    "下面实现了一个函数，它返回第i折交叉验证时所需要的训练数据和验证数据。"
   ]
  },
  {
   "cell_type": "code",
   "execution_count": 16,
   "metadata": {},
   "outputs": [],
   "source": [
    "def get_k_fold_data(k, i, X, y):\n",
    "    #返回第i折交叉验证的train和val集\n",
    "    fold_size = X.shape[0] // k\n",
    "    X_train, y_train = None, None\n",
    "    for j in range(k):\n",
    "        idx = slice(j*fold_size, (j+1)*fold_size)\n",
    "        X_part, y_part = X[idx, :], y[idx]\n",
    "        if j==i:\n",
    "            X_valid, y_valid = X_part, y_part\n",
    "        elif X_train is None:\n",
    "            X_train, y_train = X_part, y_part\n",
    "        else:\n",
    "            X_train = torch.cat((X_train, X_part), dim=0)\n",
    "            y_train = torch.cat((y_train, y_part), dim=0)\n",
    "    return X_train, y_train, X_valid, y_valid"
   ]
  },
  {
   "cell_type": "markdown",
   "metadata": {},
   "source": [
    "在K折交叉验证中我们训练K次并返回训练和验证的平均误差"
   ]
  },
  {
   "cell_type": "code",
   "execution_count": 17,
   "metadata": {},
   "outputs": [],
   "source": [
    "import matplotlib.pyplot as plt"
   ]
  },
  {
   "cell_type": "code",
   "execution_count": 18,
   "metadata": {},
   "outputs": [],
   "source": [
    "def k_fold(k, X_train, y_train, num_epoches, learning_rate, weight_dacay, batch):\n",
    "    train_l_sum, valid_l_sum = 0, 0\n",
    "    for i in range(k):\n",
    "        data = get_k_fold_data(k, i, X_train, y_train)\n",
    "        net = get_net(X_train.shape[1])\n",
    "        train_ls, valid_ls = train(net, *data, num_epoches, learning_rate, weight_dacay, batch_size)\n",
    "#         print(train_ls)\n",
    "        train_l_sum += train_ls[-1]\n",
    "        valid_l_sum += valid_ls[-1]\n",
    "        plt.figure(i)\n",
    "        plt.plot(range(1, num_epoches+1), train_ls, label='train')\n",
    "        plt.plot(range(1, num_epoches+1), valid_ls, label='valid')\n",
    "        plt.xlabel('epochs')\n",
    "        plt.ylabel('rmse')\n",
    "    plt.show()"
   ]
  },
  {
   "cell_type": "markdown",
   "metadata": {},
   "source": [
    "画出train和val集的loss曲线"
   ]
  },
  {
   "cell_type": "code",
   "execution_count": 19,
   "metadata": {},
   "outputs": [
    {
     "data": {
      "image/png": "[encoded data removed]",
      "text/plain": [
       "<Figure size 432x288 with 1 Axes>"
      ]
     },
     "metadata": {},
     "output_type": "display_data"
    },
    {
     "data": {
      "image/png": "[encoded data removed]",
      "text/plain": [
       "<Figure size 432x288 with 1 Axes>"
      ]
     },
     "metadata": {},
     "output_type": "display_data"
    },
    {
     "data": {
      "image/png": "[encoded data removed]",
      "text/plain": [
       "<Figure size 432x288 with 1 Axes>"
      ]
     },
     "metadata": {},
     "output_type": "display_data"
    },
    {
     "data": {
      "image/png": "[encoded data removed]",
      "text/plain": [
       "<Figure size 432x288 with 1 Axes>"
      ]
     },
     "metadata": {},
     "output_type": "display_data"
    },
    {
     "data": {
      "image/png": "[encoded data removed]",
      "text/plain": [
       "<Figure size 432x288 with 1 Axes>"
      ]
     },
     "metadata": {},
     "output_type": "display_data"
    }
   ],
   "source": [
    "k, num_epoches, lr, weight_decay, batch_size = 5, 100, 5, 0, 64\n",
    "k_fold(k, train_features, train_labels, num_epoches, lr, weight_decay, batch_size)"
   ]
  },
  {
   "cell_type": "markdown",
   "metadata": {},
   "source": [
    "## 预测并保存结果"
   ]
  },
  {
   "cell_type": "code",
   "execution_count": 20,
   "metadata": {},
   "outputs": [],
   "source": [
    "def train_and_pred(train_features, test_features, train_labels, test_data, num_epochs, lr,\n",
    "                  weight_decay, batch_size):\n",
    "    net = get_net(train_features.shape[1])\n",
    "    train_ls, _ = train(net, train_features, train_labels, None, None, num_epochs, lr, weight_decay, batch_size)\n",
    "    preds = net(test_features).detach().numpy()\n",
    "#     print(preds.reshape(1, -1))\n",
    "    test_data['SalePrice'] = pd.Series(preds.reshape(1, -1)[0])\n",
    "    submission = pd.concat([test_data['Id'], test_data['SalePrice']], axis=1)\n",
    "    submission.to_csv('./submission.csv', index=False)"
   ]
  },
  {
   "cell_type": "code",
   "execution_count": 22,
   "metadata": {},
   "outputs": [],
   "source": [
    "train_and_pred(train_features, test_features, train_labels, test_data, num_epoches, lr, weight_decay, batch_size)"
   ]
  }
 ],
 "metadata": {
  "kernelspec": {
   "display_name": "Python 3",
   "language": "python",
   "name": "python3"
  },
  "language_info": {
   "codemirror_mode": {
    "name": "ipython",
    "version": 3
   },
   "file_extension": ".py",
   "mimetype": "text/x-python",
   "name": "python",
   "nbconvert_exporter": "python",
   "pygments_lexer": "ipython3",
   "version": "3.6.5"
  }
 },
 "nbformat": 4,
 "nbformat_minor": 2
}
